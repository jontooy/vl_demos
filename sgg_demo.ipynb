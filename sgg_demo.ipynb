{
  "nbformat": 4,
  "nbformat_minor": 0,
  "metadata": {
    "colab": {
      "name": "sgg_demo.ipynb",
      "private_outputs": true,
      "provenance": [],
      "collapsed_sections": [],
      "authorship_tag": "ABX9TyNfNwKUK/tjD3zcXdPPnEH/",
      "include_colab_link": true
    },
    "kernelspec": {
      "name": "python3",
      "display_name": "Python 3"
    },
    "language_info": {
      "name": "python"
    },
    "accelerator": "GPU"
  },
  "cells": [
    {
      "cell_type": "markdown",
      "metadata": {
        "id": "view-in-github",
        "colab_type": "text"
      },
      "source": [
        "<a href=\"https://colab.research.google.com/github/jontooy/vl_demos/blob/master/sgg_demo.ipynb\" target=\"_parent\"><img src=\"https://colab.research.google.com/assets/colab-badge.svg\" alt=\"Open In Colab\"/></a>"
      ]
    },
    {
      "cell_type": "code",
      "metadata": {
        "id": "C86xRKzxq8Co"
      },
      "source": [
        "from google.colab import drive\n",
        "drive.mount('/content/drive')"
      ],
      "execution_count": null,
      "outputs": []
    },
    {
      "cell_type": "markdown",
      "metadata": {
        "id": "9AXC9aZusltz"
      },
      "source": [
        "# Install VinVL"
      ]
    },
    {
      "cell_type": "code",
      "metadata": {
        "id": "OTp7CToLIz_2"
      },
      "source": [
        "# Git clone repos\n",
        "% cd /content/drive/MyDrive\n",
        "! git clone https://github.com/microsoft/scene_graph_benchmark.git\n",
        "% cd scene_graph_benchmark"
      ],
      "execution_count": null,
      "outputs": []
    },
    {
      "cell_type": "code",
      "metadata": {
        "id": "ar9LRFrTrzDO"
      },
      "source": [
        "# maskrcnn_benchmark and coco api dependencies\n",
        "! pip install ninja yacs>=0.1.8 cython matplotlib tqdm opencv-python numpy>=1.19.5\n",
        "\n",
        "! pip install torch==1.7.1+cu101 torchvision==0.8.2+cu101 torchaudio==0.7.2 -f https://download.pytorch.org/whl/torch_stable.html\n",
        "! pip install timm\n",
        "! pip install einops\n",
        "\n",
        "# install pycocotools\n",
        "! pip install pycocotools\n",
        "\n",
        "# install cityscapesScripts\n",
        "! python -m pip install cityscapesscripts\n",
        "\n",
        "# the following will install the lib with\n",
        "# symbolic links, so that you can modify\n",
        "# the files if you want and won't need to\n",
        "# re-build it\n",
        "! python setup.py build develop"
      ],
      "execution_count": null,
      "outputs": []
    },
    {
      "cell_type": "markdown",
      "metadata": {
        "id": "pge_KtPpsp4i"
      },
      "source": [
        "# Demo Code"
      ]
    },
    {
      "cell_type": "code",
      "metadata": {
        "id": "QkowdIS1wPpe"
      },
      "source": [
        "# visualize VinVL object detection\n",
        "# pretrained models at https://penzhanwu2.blob.core.windows.net/sgg/sgg_benchmark/vinvl_model_zoo/vinvl_vg_x152c4.pth\n",
        "# the associated labelmap at https://penzhanwu2.blob.core.windows.net/sgg/sgg_benchmark/vinvl_model_zoo/VG-SGG-dicts-vgoi6-clipped.json\n",
        "! python tools/demo/demo_image.py \\\n",
        "    --config_file sgg_configs/vgattr/vinvl_x152c4.yaml \\\n",
        "    --img_file demo/woman_fish.jpg \\\n",
        "    --save_file output/woman_fish_x152c4.obj.jpg \\\n",
        "    MODEL.WEIGHT pretrained_model/vinvl_vg_x152c4.pth \\\n",
        "    MODEL.ROI_HEADS.NMS_FILTER 1 \\\n",
        "    MODEL.ROI_HEADS.SCORE_THRESH 0.2 \\\n",
        "    TEST.IGNORE_BOX_REGRESSION False"
      ],
      "execution_count": null,
      "outputs": []
    }
  ]
}