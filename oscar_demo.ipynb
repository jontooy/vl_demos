{
  "nbformat": 4,
  "nbformat_minor": 0,
  "metadata": {
    "colab": {
      "name": "oscar_demo.ipynb",
      "private_outputs": true,
      "provenance": [],
      "collapsed_sections": [],
      "machine_shape": "hm",
      "authorship_tag": "ABX9TyMhLnJrhLtryTgg8TtTzdeq",
      "include_colab_link": true
    },
    "kernelspec": {
      "name": "python3",
      "display_name": "Python 3"
    },
    "language_info": {
      "name": "python"
    },
    "accelerator": "GPU"
  },
  "cells": [
    {
      "cell_type": "markdown",
      "metadata": {
        "id": "view-in-github",
        "colab_type": "text"
      },
      "source": [
        "<a href=\"https://colab.research.google.com/github/jontooy/vl_demos/blob/master/oscar_demo.ipynb\" target=\"_parent\"><img src=\"https://colab.research.google.com/assets/colab-badge.svg\" alt=\"Open In Colab\"/></a>"
      ]
    },
    {
      "cell_type": "code",
      "metadata": {
        "id": "xHMlPFa6XYp6"
      },
      "source": [
        "from google.colab import drive\n",
        "drive.mount('/content/drive')"
      ],
      "execution_count": null,
      "outputs": []
    },
    {
      "cell_type": "code",
      "metadata": {
        "id": "YEGcG0JyXiRp"
      },
      "source": [
        "# Git clone repos\n",
        "! git clone https://github.com/microsoft/Oscar.git\n",
        "% cd Oscar\n",
        "! git clone https://github.com/LuoweiZhou/coco-caption.git # coco_caption @ de6f385\n",
        "! git clone https://github.com/huggingface/transformers.git # transformers @ 067923d\n",
        "% cd ..\n",
        "! git clone https://github.com/NVIDIA/apex.git"
      ],
      "execution_count": null,
      "outputs": []
    },
    {
      "cell_type": "code",
      "metadata": {
        "id": "liDNOMF1aG5X"
      },
      "source": [
        "# install pytorch 1.7\n",
        "! pip install torch==1.7.1+cu101 torchvision==0.8.2+cu101 -f https://download.pytorch.org/whl/torch_stable.html\n",
        "\n",
        "# install apex\n",
        "% cd apex\n",
        "! python setup.py install --cuda_ext --cpp_ext\n",
        "\n",
        "# install oscar\n",
        "% cd Oscar/coco-caption\n",
        "! pip install pycocoevalcap\n",
        "! chmod u+r+x get_stanford_models.sh\n",
        "! ./get_stanford_models.sh\n",
        "% cd ..\n",
        "! python setup.py build develop\n",
        "\n",
        "# install requirements\n",
        "! pip install -r requirements.txt"
      ],
      "execution_count": null,
      "outputs": []
    }
  ]
}