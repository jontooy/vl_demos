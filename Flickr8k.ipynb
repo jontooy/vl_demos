{
  "nbformat": 4,
  "nbformat_minor": 0,
  "metadata": {
    "colab": {
      "name": "Flickr8k.ipynb",
      "provenance": [],
      "collapsed_sections": [],
      "authorship_tag": "ABX9TyPspBbu6AYd22i76ydLmF6b",
      "include_colab_link": true
    },
    "kernelspec": {
      "name": "python3",
      "display_name": "Python 3"
    },
    "language_info": {
      "name": "python"
    }
  },
  "cells": [
    {
      "cell_type": "markdown",
      "metadata": {
        "id": "view-in-github",
        "colab_type": "text"
      },
      "source": [
        "<a href=\"https://colab.research.google.com/github/jontooy/vl_demos/blob/master/Flickr8k.ipynb\" target=\"_parent\"><img src=\"https://colab.research.google.com/assets/colab-badge.svg\" alt=\"Open In Colab\"/></a>"
      ]
    },
    {
      "cell_type": "markdown",
      "metadata": {
        "id": "Thl0Z90oF2h1"
      },
      "source": [
        "# Flickr8k\n",
        "\n",
        "This dataset contains 8091 images, with 5 captions each (40456 in total). The captions are store in a .txt. The goal of this Notebook is to covert these into coco format."
      ]
    },
    {
      "cell_type": "code",
      "metadata": {
        "colab": {
          "base_uri": "https://localhost:8080/"
        },
        "id": "stuo8fdVF2It",
        "outputId": "e9a6bbfc-1f7d-4e0b-8b5d-583b83c5e5cf"
      },
      "source": [
        "import pandas as pd\n",
        "import json\n",
        "import numpy as np\n",
        "import regex as re\n",
        "\n",
        "from google.colab import drive\n",
        "drive.mount('/content/drive')\n",
        "\n",
        "% cd /content/drive/MyDrive/AraCap/Notebooks/datasets/Flickr8k"
      ],
      "execution_count": 1,
      "outputs": [
        {
          "output_type": "stream",
          "name": "stdout",
          "text": [
            "Mounted at /content/drive\n",
            "/content/drive/MyDrive/AraCap/Notebooks/datasets/Flickr8k\n"
          ]
        }
      ]
    },
    {
      "cell_type": "code",
      "metadata": {
        "id": "Zfcu03VOFvFa",
        "colab": {
          "base_uri": "https://localhost:8080/",
          "height": 221
        },
        "outputId": "175729e5-308d-46e5-9184-7f3de870a494"
      },
      "source": [
        "df = pd.read_csv('captions.txt', sep=',')\n",
        "print(df.shape[0])\n",
        "df.head()"
      ],
      "execution_count": 2,
      "outputs": [
        {
          "output_type": "stream",
          "name": "stdout",
          "text": [
            "40455\n"
          ]
        },
        {
          "output_type": "execute_result",
          "data": {
            "text/html": [
              "<div>\n",
              "<style scoped>\n",
              "    .dataframe tbody tr th:only-of-type {\n",
              "        vertical-align: middle;\n",
              "    }\n",
              "\n",
              "    .dataframe tbody tr th {\n",
              "        vertical-align: top;\n",
              "    }\n",
              "\n",
              "    .dataframe thead th {\n",
              "        text-align: right;\n",
              "    }\n",
              "</style>\n",
              "<table border=\"1\" class=\"dataframe\">\n",
              "  <thead>\n",
              "    <tr style=\"text-align: right;\">\n",
              "      <th></th>\n",
              "      <th>image</th>\n",
              "      <th>caption</th>\n",
              "    </tr>\n",
              "  </thead>\n",
              "  <tbody>\n",
              "    <tr>\n",
              "      <th>0</th>\n",
              "      <td>1000268201_693b08cb0e.jpg</td>\n",
              "      <td>A child in a pink dress is climbing up a set o...</td>\n",
              "    </tr>\n",
              "    <tr>\n",
              "      <th>1</th>\n",
              "      <td>1000268201_693b08cb0e.jpg</td>\n",
              "      <td>A girl going into a wooden building .</td>\n",
              "    </tr>\n",
              "    <tr>\n",
              "      <th>2</th>\n",
              "      <td>1000268201_693b08cb0e.jpg</td>\n",
              "      <td>A little girl climbing into a wooden playhouse .</td>\n",
              "    </tr>\n",
              "    <tr>\n",
              "      <th>3</th>\n",
              "      <td>1000268201_693b08cb0e.jpg</td>\n",
              "      <td>A little girl climbing the stairs to her playh...</td>\n",
              "    </tr>\n",
              "    <tr>\n",
              "      <th>4</th>\n",
              "      <td>1000268201_693b08cb0e.jpg</td>\n",
              "      <td>A little girl in a pink dress going into a woo...</td>\n",
              "    </tr>\n",
              "  </tbody>\n",
              "</table>\n",
              "</div>"
            ],
            "text/plain": [
              "                       image                                            caption\n",
              "0  1000268201_693b08cb0e.jpg  A child in a pink dress is climbing up a set o...\n",
              "1  1000268201_693b08cb0e.jpg              A girl going into a wooden building .\n",
              "2  1000268201_693b08cb0e.jpg   A little girl climbing into a wooden playhouse .\n",
              "3  1000268201_693b08cb0e.jpg  A little girl climbing the stairs to her playh...\n",
              "4  1000268201_693b08cb0e.jpg  A little girl in a pink dress going into a woo..."
            ]
          },
          "metadata": {},
          "execution_count": 2
        }
      ]
    },
    {
      "cell_type": "markdown",
      "metadata": {
        "id": "ghJVq6L5Xqok"
      },
      "source": [
        "Now the $split_caption.json encodes the captions like:\n",
        "\n",
        "```json\n",
        "[{\"image_id\": \"318556\", \"id\": 48, \"caption\": \"A very clean and well decorated empty bathroom\"}, ...]\n",
        "```\n",
        "\n",
        "For each image:\n",
        "\n",
        "1. + extract 'image_id' (= 'image' - '.jpg')\n",
        "  + extract 'id' (= df['row number?'])\n",
        "  + extract 'caption'\n",
        "\n",
        "2. Create a list of dictionares like the example above.\n",
        "\n",
        "3. Dump in .json format in the right folder"
      ]
    },
    {
      "cell_type": "code",
      "metadata": {
        "id": "7a48vScTL_u9"
      },
      "source": [
        "# Choose split (either val or train)\n",
        "split = 'test'\n",
        "\n",
        "# Remove file extension '.jpg'\n",
        "df['image'] = df['image'].apply(lambda row : row[:-4])\n",
        "\n",
        "# Make clean captions\n",
        "#reg = re.compile('[^a-zA-Z, ]+')\n",
        "#df['caption'] = df['caption'].apply(lambda row : re.sub(reg, '', row).strip()+'.')\n",
        "df['caption'] = df['caption'].apply(lambda row : row.strip())"
      ],
      "execution_count": 3,
      "outputs": []
    },
    {
      "cell_type": "markdown",
      "metadata": {
        "id": "WhLUIXxZW7M1"
      },
      "source": [
        "Our data is now in the right format:"
      ]
    },
    {
      "cell_type": "code",
      "metadata": {
        "id": "Khg1NchRWxgG",
        "colab": {
          "base_uri": "https://localhost:8080/"
        },
        "outputId": "a70abd0a-0179-4c55-e07e-2a22a8205e6f"
      },
      "source": [
        "df['image'].head()"
      ],
      "execution_count": 4,
      "outputs": [
        {
          "output_type": "execute_result",
          "data": {
            "text/plain": [
              "0    1000268201_693b08cb0e\n",
              "1    1000268201_693b08cb0e\n",
              "2    1000268201_693b08cb0e\n",
              "3    1000268201_693b08cb0e\n",
              "4    1000268201_693b08cb0e\n",
              "Name: image, dtype: object"
            ]
          },
          "metadata": {},
          "execution_count": 4
        }
      ]
    },
    {
      "cell_type": "code",
      "metadata": {
        "colab": {
          "base_uri": "https://localhost:8080/"
        },
        "id": "5Qq4rl9XSnjh",
        "outputId": "b1bad334-1ea6-42d5-af22-3105d276aab2"
      },
      "source": [
        "df['caption'].head()"
      ],
      "execution_count": 5,
      "outputs": [
        {
          "output_type": "execute_result",
          "data": {
            "text/plain": [
              "0    A child in a pink dress is climbing up a set o...\n",
              "1                A girl going into a wooden building .\n",
              "2     A little girl climbing into a wooden playhouse .\n",
              "3    A little girl climbing the stairs to her playh...\n",
              "4    A little girl in a pink dress going into a woo...\n",
              "Name: caption, dtype: object"
            ]
          },
          "metadata": {},
          "execution_count": 5
        }
      ]
    },
    {
      "cell_type": "code",
      "metadata": {
        "id": "xO8AzkLTUgxk"
      },
      "source": [
        "# Create annotations\n",
        "annotations = [{\"image_id\" : df['image'].iloc[i], \"id\" : i, \"caption\" : df['caption'].iloc[i]} for i in range(df.shape[0])]\n",
        "    \n",
        "# Create image annotations\n",
        "images = [{\"id\" : df['image'].iloc[i], \"file_name\" : df['image'].iloc[i]} for i in range(df.shape[0])]\n",
        "\n",
        "# Create coco_format\n",
        "coco_format = {\"annotations\" : annotations,\n",
        "               \"images\" : images,\n",
        "               \"type\": \"captions\",\n",
        "               \"info\": \"dummy\",\n",
        "               \"licenses\": \"dummy\"}"
      ],
      "execution_count": 6,
      "outputs": []
    },
    {
      "cell_type": "code",
      "metadata": {
        "id": "Y_WhCSMva5Wu"
      },
      "source": [
        "# dump json\n",
        "with open(split+\"_caption.json\", \"w\") as f:\n",
        "  json.dump(annotations, f, separators=(', ', ': '), ensure_ascii = False)\n",
        "  \n",
        "with open(split+\"_caption_coco_format.json\", \"w\") as f:\n",
        "  json.dump(coco_format, f, separators=(', ', ': '), ensure_ascii = False)"
      ],
      "execution_count": null,
      "outputs": []
    },
    {
      "cell_type": "code",
      "metadata": {
        "id": "NITjf-1bPuUe"
      },
      "source": [
        ""
      ],
      "execution_count": null,
      "outputs": []
    }
  ]
}